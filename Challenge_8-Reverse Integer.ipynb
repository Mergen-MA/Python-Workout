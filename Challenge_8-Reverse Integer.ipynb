{
 "cells": [
  {
   "cell_type": "code",
   "execution_count": 1,
   "metadata": {
    "tags": []
   },
   "outputs": [
    {
     "output_type": "stream",
     "name": "stdout",
     "text": [
      "-132\n543\n"
     ]
    }
   ],
   "source": [
    "# Given an integer, return the integer with reversed digits\n",
    "# Note: The integer could be either positive or negative\n",
    "\n",
    "def reverse_int(x):\n",
    "    string = str(x)\n",
    "    \n",
    "    if string[0] == '-':\n",
    "        return int('-'+string[:0:-1])\n",
    "    else:\n",
    "        return int(string[::-1])\n",
    "    \n",
    "print(reverse_int(-231))\n",
    "print(reverse_int(345))\n"
   ]
  },
  {
   "cell_type": "code",
   "execution_count": null,
   "metadata": {},
   "outputs": [],
   "source": []
  }
 ],
 "metadata": {
  "language_info": {
   "codemirror_mode": {
    "name": "ipython",
    "version": 3
   },
   "file_extension": ".py",
   "mimetype": "text/x-python",
   "name": "python",
   "nbconvert_exporter": "python",
   "pygments_lexer": "ipython3",
   "version": "3.8.3-final"
  },
  "orig_nbformat": 2,
  "kernelspec": {
   "name": "python3",
   "display_name": "Python 3.8.3 64-bit",
   "metadata": {
    "interpreter": {
     "hash": "98f49bc6fad53f20cf8aaea4c55b9273c22a38e048520263f665e3eedc60e879"
    }
   }
  }
 },
 "nbformat": 4,
 "nbformat_minor": 2
}