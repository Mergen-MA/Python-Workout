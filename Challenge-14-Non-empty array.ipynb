{
 "cells": [
  {
   "cell_type": "code",
   "execution_count": null,
   "metadata": {},
   "outputs": [],
   "source": [
    "\"\"\"#daily-python-challenge\n",
    "QUESTION: Level of Interview Question = Easy\n",
    "Given a non-empty array of decimal digits representing a non-negative integer, increment one to the integer.\n",
    "The digits are stored such that the most significant digit is at the head of the list, and each element in the array contains a single digit.\n",
    "You may assume the integer does not contain any leading zero, except the number 0 itself.\n",
    "Example 1:\n",
    "Input: digits = [1,2,3]\n",
    "Output: [1,2,4]\n",
    "Explanation: The array represents the integer 123.\n",
    "\n",
    "Example 2:\n",
    "Input: digits = [9,9]\n",
    "Output: [1,0,0]\n",
    "Explanation: The array represents the integer 99.\n",
    "\n",
    "Example 3:\n",
    "Input: digits = [9]\n",
    "Output: [1,0]\"\"\""
   ]
  },
  {
   "cell_type": "code",
   "execution_count": 1,
   "metadata": {},
   "outputs": [],
   "source": [
    "def addone(arr):\n",
    "    num = int(''.join([str(i) for i in arr]))  # convert to int\n",
    "    numback = num + 1 \n",
    "    digits = [int(i) for i in str(numback)]  # convert to array\n",
    "    return digits"
   ]
  },
  {
   "cell_type": "code",
   "execution_count": null,
   "metadata": {},
   "outputs": [],
   "source": []
  }
 ],
 "metadata": {
  "language_info": {
   "codemirror_mode": {
    "name": "ipython",
    "version": 3
   },
   "file_extension": ".py",
   "mimetype": "text/x-python",
   "name": "python",
   "nbconvert_exporter": "python",
   "pygments_lexer": "ipython3",
   "version": "3.8.3-final"
  },
  "orig_nbformat": 2,
  "kernelspec": {
   "name": "python3",
   "display_name": "Python 3.8.3 64-bit",
   "metadata": {
    "interpreter": {
     "hash": "98f49bc6fad53f20cf8aaea4c55b9273c22a38e048520263f665e3eedc60e879"
    }
   }
  }
 },
 "nbformat": 4,
 "nbformat_minor": 2
}