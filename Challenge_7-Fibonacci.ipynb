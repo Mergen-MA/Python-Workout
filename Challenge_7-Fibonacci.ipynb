{
 "cells": [
  {
   "cell_type": "code",
   "execution_count": 1,
   "metadata": {
    "tags": []
   },
   "outputs": [
    {
     "output_type": "stream",
     "name": "stdout",
     "text": "[1, 1, 2, 3, 5, 8, 13, 21, 34, 55]\n"
    }
   ],
   "source": [
    "#Task : Create a list consisting of Fibonacci numbers from 1 to 55 using control flow statements\n",
    "\n",
    "# The desired output is like :\n",
    "# fibonacci →  [1, 1, 2, 3, 5, 8, 13, 21, 34, 55]\n",
    "\n",
    "a = 1\n",
    "b = 0\n",
    "fibo_list = []\n",
    "\n",
    "while a < 55:\n",
    "    if b <= 1:\n",
    "        fibo_list.append(a)\n",
    "        b += 1\n",
    "\n",
    "    else:\n",
    "        a = fibo_list[b-1] + fibo_list[b-2]\n",
    "        fibo_list.append(a) \n",
    "        b += 1\n",
    "        \n",
    "print(fibo_list)\n"
   ]
  },
  {
   "cell_type": "code",
   "execution_count": 16,
   "metadata": {},
   "outputs": [
    {
     "output_type": "execute_result",
     "data": {
      "text/plain": "[1, 1, 2, 3, 5, 8, 13, 21, 34, 55]"
     },
     "metadata": {},
     "execution_count": 16
    }
   ],
   "source": [
    "#Solution 1\n",
    "def fibonacci(n):\n",
    "    a, b = 0, 1\n",
    "\n",
    "    for i in range(1, n):\n",
    "        a, b = b, a + b\n",
    "    return b\n",
    "\n",
    "[fibonacci(i) for i in range(1, 11)]\n"
   ]
  },
  {
   "cell_type": "code",
   "execution_count": 22,
   "metadata": {
    "tags": []
   },
   "outputs": [
    {
     "output_type": "stream",
     "name": "stdout",
     "text": "Fibonacci numbers up to 55 is [1, 1, 2, 3, 5, 8, 13, 21, 34, 55]\n"
    }
   ],
   "source": [
    "#Solution 2\n",
    "fibo_list = []\n",
    "fibo_list.append(1)\n",
    "fibo_list.append(1)\n",
    "\n",
    "n = 0\n",
    "summ = 0\n",
    "\n",
    "while summ < 55:\n",
    "    summ = fibo_list[n] + fibo_list[n+1]\n",
    "    fibo_list.insert(n+2, summ)\n",
    "    n += 1\n",
    "print(f\"Fibonacci numbers up to 55 are {fibo_list}\")    \n"
   ]
  },
  {
   "cell_type": "code",
   "execution_count": null,
   "metadata": {},
   "outputs": [],
   "source": []
  }
 ],
 "metadata": {
  "language_info": {
   "codemirror_mode": {
    "name": "ipython",
    "version": 3
   },
   "file_extension": ".py",
   "mimetype": "text/x-python",
   "name": "python",
   "nbconvert_exporter": "python",
   "pygments_lexer": "ipython3",
   "version": 3
  },
  "orig_nbformat": 2,
  "kernelspec": {
   "name": "python_defaultSpec_1594802301352",
   "display_name": "Python 3.8.3 64-bit"
  }
 },
 "nbformat": 4,
 "nbformat_minor": 2
}