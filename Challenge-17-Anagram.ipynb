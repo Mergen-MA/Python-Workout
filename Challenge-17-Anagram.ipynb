{
 "metadata": {
  "language_info": {
   "codemirror_mode": {
    "name": "ipython",
    "version": 3
   },
   "file_extension": ".py",
   "mimetype": "text/x-python",
   "name": "python",
   "nbconvert_exporter": "python",
   "pygments_lexer": "ipython3",
   "version": "3.8.3-final"
  },
  "orig_nbformat": 2,
  "kernelspec": {
   "name": "python3",
   "display_name": "Python 3.8.3 64-bit",
   "metadata": {
    "interpreter": {
     "hash": "98f49bc6fad53f20cf8aaea4c55b9273c22a38e048520263f665e3eedc60e879"
    }
   }
  }
 },
 "nbformat": 4,
 "nbformat_minor": 2,
 "cells": [
  {
   "cell_type": "code",
   "execution_count": 15,
   "metadata": {
    "tags": []
   },
   "outputs": [
    {
     "output_type": "stream",
     "name": "stdout",
     "text": "2400 is leap year\n"
    }
   ],
   "source": [
    "\"\"\"Group Anagrams (Interview Question-Medium Level).\n",
    "Given a list of strings, group anagrams together.\n",
    "\n",
    "Example:\n",
    "Input: [\"eat\", \"tea\", \"tan\", \"ate\", \"nat\", \"bat\"]\n",
    "\n",
    "Output:\n",
    "[\n",
    "  [\"ate\",\"eat\",\"tea\"],\n",
    "  [\"nat\",\"tan\"],\n",
    "  [\"bat\"]\n",
    "]\n",
    "Note:\n",
    "All inputs will be in lowercase.\n",
    "The order of your output does not matter.\"\"\""
   ]
  },
  {
   "cell_type": "code",
   "execution_count": 11,
   "metadata": {},
   "outputs": [
    {
     "output_type": "stream",
     "name": "stdout",
     "text": [
      "[['ate', 'eat', 'tea'], ['nat', 'tan'], ['bat']]\n"
     ]
    }
   ],
   "source": [
    "a = []\n",
    "input = [\"eat\", \"tea\", \"tan\", \"ate\", \"nat\", \"bat\"]\n",
    "for i in input:\n",
    "    b = [j for j in input if \"\".join(sorted(i)) == \"\".join(sorted(j))]\n",
    "    if sorted(b) not in a:\n",
    "        a.append(sorted(b))\n",
    "print(a)"
   ]
  },
  {
   "cell_type": "code",
   "execution_count": 1,
   "metadata": {},
   "outputs": [
    {
     "output_type": "execute_result",
     "data": {
      "text/plain": [
       "[['ate', 'eat', 'tea'], ['nat', 'tan'], ['bat']]"
      ]
     },
     "metadata": {},
     "execution_count": 1
    }
   ],
   "source": [
    "#Solution 2\n",
    "mylist = [\"eat\", \"tea\", \"tan\", \"ate\", \"nat\", \"bat\"]\n",
    "c =[]\n",
    "for i in mylist:\n",
    "    k = []\n",
    "    for j in mylist:\n",
    "        if set(i) == set(j):\n",
    "            k.append(j)\n",
    "    if sorted(k) not in c:\n",
    "        c.append(sorted(k))\n",
    "c"
   ]
  },
  {
   "cell_type": "code",
   "execution_count": 2,
   "metadata": {},
   "outputs": [
    {
     "output_type": "stream",
     "name": "stdout",
     "text": [
      "[['eat', 'tea', 'ate'], ['tan', 'nat'], ['bat']]\n"
     ]
    }
   ],
   "source": [
    "#Solution 3\n",
    "\n",
    "A=[\"eat\", \"tea\", \"tan\", \"ate\", \"nat\", \"bat\"]\n",
    "C=[]\n",
    "B=[]\n",
    "for i in A:\n",
    "    for j in A:\n",
    "        if set(i)==set(j):\n",
    "            C.append(j)\n",
    "    if not C in B:\n",
    "        B.append(C)\n",
    "    C=[]\n",
    "print(B)"
   ]
  },
  {
   "cell_type": "code",
   "execution_count": 4,
   "metadata": {},
   "outputs": [
    {
     "output_type": "stream",
     "name": "stdout",
     "text": [
      "[['eat', 'tea', 'ate'], ['tan', 'nat'], ['bat']]\n"
     ]
    }
   ],
   "source": [
    "#Solution 4\n",
    "input=[\"eat\", \"tea\", \"tan\", \"ate\", \"nat\", \"bat\"]\n",
    "a = []\n",
    "for i in input:\n",
    "    d = []\n",
    "    for j in range(len(input)):\n",
    "        if sorted(i) == sorted(input[j]):\n",
    "            d.append(input[j])\n",
    "    if d not in a:\n",
    "        a.append(d)\n",
    "print(a)"
   ]
  },
  {
   "cell_type": "code",
   "execution_count": 1,
   "metadata": {},
   "outputs": [
    {
     "output_type": "stream",
     "name": "stdout",
     "text": [
      "[['eat', 'tea', 'ate'], ['tan', 'nat'], ['bat']]\n"
     ]
    }
   ],
   "source": [
    "# Solution 5 \n",
    "\n",
    "strs = [\"eat\", \"tea\", \"tan\", \"ate\", \"nat\", \"bat\"]\n",
    "anag = {}\n",
    "for i in strs:\n",
    "    if \"\".join(sorted(i)) in anag:\n",
    "        anag[\"\".join(sorted(i))].append(i)\n",
    "    else:\n",
    "        anag[\"\".join(sorted(i))] = [i]\n",
    "print(list(anag.values()))"
   ]
  },
  {
   "cell_type": "code",
   "execution_count": null,
   "metadata": {},
   "outputs": [],
   "source": [
    "# Solution 6 \n",
    "\n",
    "strings = [\"eat\", \"tea\", \"tan\", \"ate\", \"nat\", \"bat\"]\n",
    "result = []\n",
    "for j in strings:\n",
    "    item = [x for x in strings if sorted(j) == sorted(x)]\n",
    "    if item not in result:\n",
    "        result.append(item)\n",
    "print(result)"
   ]
  }
 ]
}