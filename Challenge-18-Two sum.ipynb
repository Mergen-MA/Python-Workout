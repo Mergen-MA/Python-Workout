{
 "metadata": {
  "language_info": {
   "codemirror_mode": {
    "name": "ipython",
    "version": 3
   },
   "file_extension": ".py",
   "mimetype": "text/x-python",
   "name": "python",
   "nbconvert_exporter": "python",
   "pygments_lexer": "ipython3",
   "version": "3.8.3-final"
  },
  "orig_nbformat": 2,
  "kernelspec": {
   "name": "python3",
   "display_name": "Python 3.8.3 64-bit",
   "metadata": {
    "interpreter": {
     "hash": "98f49bc6fad53f20cf8aaea4c55b9273c22a38e048520263f665e3eedc60e879"
    }
   }
  }
 },
 "nbformat": 4,
 "nbformat_minor": 2,
 "cells": [
  {
   "cell_type": "code",
   "execution_count": null,
   "metadata": {},
   "outputs": [],
   "source": [
    "\"\"\"Given an array of integers nums and an integer target, return indices of the two numbers such that they add up to target.\r\n",
    "\r\n",
    "You may assume that each input would have exactly one solution, and you may not use the same element twice.\r\n",
    "\r\n",
    "You can return the answer in any order.\r\n",
    "\r\n",
    " \r\n",
    "\r\n",
    "Example 1:\r\n",
    "\r\n",
    "Input: nums = [2,7,11,15], target = 9\r\n",
    "Output: [0,1]\r\n",
    "Output: Because nums[0] + nums[1] == 9, we return [0, 1].\r\n",
    "Example 2:\r\n",
    "\r\n",
    "Input: nums = [3,2,4], target = 6\r\n",
    "Output: [1,2]\r\n",
    "Example 3:\r\n",
    "\r\n",
    "Input: nums = [3,3], target = 6\r\n",
    "Output: [0,1]\r\n",
    "\"\"\"\r\n"
   ]
  },
  {
   "cell_type": "code",
   "execution_count": 2,
   "metadata": {},
   "outputs": [],
   "source": [
    "class Solution(object):\n",
    "    def twoSum(self, nums, target):\n",
    "        h = {}\n",
    "        for i, num in enumerate(nums):\n",
    "            n = target - num\n",
    "            if n not in h:\n",
    "                h[num] = i\n",
    "            else:\n",
    "                return [h[n], i]"
   ]
  },
  {
   "cell_type": "code",
   "execution_count": 3,
   "metadata": {},
   "outputs": [],
   "source": [
    "#Solution 2\n",
    "class Solution:\n",
    "    def twoSum(self, nums, target):\n",
    "        num_set = {}\n",
    "        for num_index, num in enumerate(nums):\n",
    "            if (target-num) in num_set:\n",
    "                return [num_set[target-num], num_index]\n",
    "            num_set[num] = num_index"
   ]
  },
  {
   "cell_type": "code",
   "execution_count": null,
   "metadata": {},
   "outputs": [],
   "source": [
    "class Solution:\n",
    "    def twoSum(self, nums: List[int], target: int) -> List[int]:\n",
    "        for i in range(len(nums)):\n",
    "            for j in range(len(nums)) :\n",
    "                if i != j and nums[i] + nums[j] == target:\n",
    "                    return [i,j]"
   ]
  },
  {
   "cell_type": "code",
   "execution_count": 41,
   "metadata": {},
   "outputs": [
    {
     "output_type": "stream",
     "name": "stdout",
     "text": [
      "[0, 1]\n[1, 0]\n"
     ]
    }
   ],
   "source": [
    "nums = [2, 7, 9, 11]\n",
    "target = 9\n",
    "for i in range(len(nums)):\n",
    "    for j in range(len(nums)):\n",
    "        if i != j and nums[i] + nums[j] == 9:\n",
    "            print([i, j])\n",
    "                "
   ]
  },
  {
   "cell_type": "code",
   "execution_count": null,
   "metadata": {},
   "outputs": [],
   "source": []
  }
 ]
}