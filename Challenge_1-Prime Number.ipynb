{
 "cells": [
  {
   "cell_type": "code",
   "execution_count": 32,
   "metadata": {
    "tags": []
   },
   "outputs": [
    {
     "output_type": "stream",
     "name": "stdout",
     "text": "4 is not a prime number\n"
    }
   ],
   "source": [
    "# Task : Write a program that takes a number from the user and prints the result to check if it is a prime number.\n",
    "\n",
    "# The examples of the desired output are as follows :\n",
    "\n",
    "# input →  19 ⇉ output : 19 is a prime number.\n",
    "# input →  10 ⇉ output : 10 is not a prime number.\n",
    "\n",
    "prime_num = int(input(\"Enter a positive number bigger than 1: \"))\n",
    "\n",
    "if prime_num <= 1:\n",
    "    print(prime_num, \"is not valid enrty, please enter a positive number bigger than 1\")\n",
    "\n",
    "elif prime_num >= 2:\n",
    "    for i in range(2, prime_num):\n",
    "        if prime_num % i == 0:\n",
    "            print(prime_num, \"is not a prime number\")\n",
    "            break\n",
    "    else:\n",
    "        print(prime_num, \"is a prime number\")\n",
    "       \n",
    "    \n",
    " \n",
    "\n",
    "\n",
    "            \n",
    "\n",
    "\n"
   ]
  }
 ],
 "metadata": {
  "language_info": {
   "codemirror_mode": {
    "name": "ipython",
    "version": 3
   },
   "file_extension": ".py",
   "mimetype": "text/x-python",
   "name": "python",
   "nbconvert_exporter": "python",
   "pygments_lexer": "ipython3",
   "version": 3
  },
  "orig_nbformat": 2,
  "kernelspec": {
   "name": "python_defaultSpec_1594720493747",
   "display_name": "Python 3.8.3 64-bit"
  }
 },
 "nbformat": 4,
 "nbformat_minor": 2
}