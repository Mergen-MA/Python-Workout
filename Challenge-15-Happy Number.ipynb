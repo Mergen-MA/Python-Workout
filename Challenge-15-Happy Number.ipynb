{
 "cells": [
  {
   "cell_type": "code",
   "execution_count": null,
   "metadata": {},
   "outputs": [],
   "source": [
    "#daily-python-challenge\n",
    "\"\"\"QUESTION: Level of Interview Question = Easy\n",
    "Given an array of size n, find the majority element. The majority element is the element that appears more than \n",
    "⌊ n/2 ⌋ times\n",
    "You may assume that the array is non-empty and the majority element always exist in the array\n",
    "\n",
    "Example 1:\n",
    "Input: [3,2,3]\n",
    "Output: 3\n",
    "\n",
    "Example 2:\n",
    "Input: [2,2,1,1,1,2,2]\n",
    "Output: 2 \"\"\""
   ]
  },
  {
   "cell_type": "code",
   "execution_count": null,
   "metadata": {},
   "outputs": [],
   "source": [
    "for i in Input:\n",
    "    if Input.count(i) > len(Input) / 2:\n",
    "        print(i)\n",
    "        break"
   ]
  },
  {
   "cell_type": "code",
   "execution_count": null,
   "metadata": {},
   "outputs": [],
   "source": [
    "#Solution 2\n",
    "def majority_ele_finder(arr):\n",
    "    for i in arr:\n",
    "        if arr.count(i)>len(arr)/2:\n",
    "            print(i)\n",
    "            break"
   ]
  }
 ],
 "metadata": {
  "language_info": {
   "codemirror_mode": {
    "name": "ipython",
    "version": 3
   },
   "file_extension": ".py",
   "mimetype": "text/x-python",
   "name": "python",
   "nbconvert_exporter": "python",
   "pygments_lexer": "ipython3",
   "version": "3.8.3-final"
  },
  "orig_nbformat": 2,
  "kernelspec": {
   "name": "python3",
   "display_name": "Python 3.8.3 64-bit",
   "metadata": {
    "interpreter": {
     "hash": "98f49bc6fad53f20cf8aaea4c55b9273c22a38e048520263f665e3eedc60e879"
    }
   }
  }
 },
 "nbformat": 4,
 "nbformat_minor": 2
}