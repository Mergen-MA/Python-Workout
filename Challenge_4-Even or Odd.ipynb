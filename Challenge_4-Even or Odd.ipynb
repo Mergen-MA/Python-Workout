{
 "cells": [
  {
   "cell_type": "code",
   "execution_count": 32,
   "metadata": {
    "tags": []
   },
   "outputs": [
    {
     "output_type": "stream",
     "name": "stdout",
     "text": "4 is not a prime number\n"
    }
   ],
   "source": [
    "# Python program to check if the input number is odd or even\n",
    "# A number is even if division by 2 gives a remainder of 0\n",
    "# If the remainder is 1, it is an odd number\n",
    "\n",
    "num = int(input(\"Enter a number: \"))\n",
    "\n",
    "if (num % 2) == 0:\n",
    "   print(\"{0} is Even\".format(num))\n",
    "else:\n",
    "   print(\"{0} is Odd\".format(num))\n",
    "\n",
    "       \n",
    "    \n",
    " \n",
    "\n",
    "\n",
    "            \n",
    "\n",
    "\n"
   ]
  }
 ],
 "metadata": {
  "language_info": {
   "codemirror_mode": {
    "name": "ipython",
    "version": 3
   },
   "file_extension": ".py",
   "mimetype": "text/x-python",
   "name": "python",
   "nbconvert_exporter": "python",
   "pygments_lexer": "ipython3",
   "version": 3
  },
  "orig_nbformat": 2,
  "kernelspec": {
   "name": "python_defaultSpec_1594720493747",
   "display_name": "Python 3.8.3 64-bit"
  }
 },
 "nbformat": 4,
 "nbformat_minor": 2
}