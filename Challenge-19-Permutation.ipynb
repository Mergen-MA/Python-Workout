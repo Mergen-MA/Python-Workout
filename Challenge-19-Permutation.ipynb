{
 "metadata": {
  "language_info": {
   "codemirror_mode": {
    "name": "ipython",
    "version": 3
   },
   "file_extension": ".py",
   "mimetype": "text/x-python",
   "name": "python",
   "nbconvert_exporter": "python",
   "pygments_lexer": "ipython3",
   "version": "3.8.3-final"
  },
  "orig_nbformat": 2,
  "kernelspec": {
   "name": "python3",
   "display_name": "Python 3.8.3 64-bit",
   "metadata": {
    "interpreter": {
     "hash": "98f49bc6fad53f20cf8aaea4c55b9273c22a38e048520263f665e3eedc60e879"
    }
   }
  }
 },
 "nbformat": 4,
 "nbformat_minor": 2,
 "cells": [
  {
   "cell_type": "code",
   "execution_count": null,
   "metadata": {},
   "outputs": [],
   "source": [
    "\"\"\"---------||----------||----------||----------\n",
    ":python: Interview'da (Microsoft, Adobe, Airbnb, Apple) çıkmış bir soru daha : :python: Seviye : Advanced\n",
    "========================================\n",
    "Problem :\n",
    "Given a collection of distinct integers, return all possible permutations.\n",
    "Example:\n",
    "Input:\n",
    "[1,2,3]\n",
    "Output:\n",
    "[\n",
    "  [1,2,3],\n",
    "  [1,3,2],\n",
    "  [2,1,3],\n",
    "  [2,3,1],\n",
    "  [3,1,2],\n",
    "  [3,2,1]\n",
    "]\n",
    "Dikkat:bangbang:\n",
    "Bu soruyu çözerken herhangi bir modul/kütüphane import etmeden ve def/lambda fonksiyon tanımlamadan yapmalısınız."
   ]
  },
  {
   "cell_type": "code",
   "execution_count": 2,
   "metadata": {},
   "outputs": [
    {
     "output_type": "stream",
     "name": "stdout",
     "text": [
      "[[1, 2, 3], [1, 3, 2], [2, 1, 3], [2, 3, 1], [3, 1, 2], [3, 2, 1]]\n"
     ]
    }
   ],
   "source": [
    "#Slotion 1\n",
    "a =  [1,2,3]\n",
    "per = [[x,y,z] for x in a for y in a for z in a if ( x != y and y != z and x != z )]\n",
    "print(per)"
   ]
  },
  {
   "cell_type": "code",
   "execution_count": 4,
   "metadata": {},
   "outputs": [
    {
     "output_type": "stream",
     "name": "stdout",
     "text": [
      "[[1, 2, 3], [1, 3, 2], [2, 1, 3], [2, 3, 1], [3, 1, 2], [3, 2, 1]]\n"
     ]
    }
   ],
   "source": [
    "#Solution 2\n",
    "lst, p = [1, 2, 3], [[]]\n",
    "for _ in lst:\n",
    "    p = [[a] + b for a in lst for b in p if a not in b]\n",
    "print(p)"
   ]
  },
  {
   "cell_type": "code",
   "execution_count": 5,
   "metadata": {},
   "outputs": [
    {
     "output_type": "stream",
     "name": "stdout",
     "text": [
      "[[1, 2, 3], [1, 3, 2], [2, 1, 3], [2, 3, 1], [3, 1, 2], [3, 2, 1]]\n"
     ]
    }
   ],
   "source": [
    "#solution 3\n",
    "lst = [1,2,3]\n",
    "r = [[]]\n",
    "for _ in lst:\n",
    "    r = [i + [j] for i in r for j in lst if j not in i]\n",
    "print(r)"
   ]
  },
  {
   "cell_type": "code",
   "execution_count": 8,
   "metadata": {},
   "outputs": [
    {
     "output_type": "stream",
     "name": "stdout",
     "text": [
      "[[1, 2, 3], [1, 3, 2], [2, 1, 3], [2, 3, 1], [3, 1, 2], [3, 2, 1]]\n"
     ]
    }
   ],
   "source": [
    "#Solution 4\n",
    "lst, a = [1,2,3], []\n",
    "for first in lst:\n",
    "    for second in lst: \n",
    "        if second != first: \n",
    "            for third in lst: \n",
    "                if third != first and third != second: \n",
    "                    a.append([first , second , third])\n",
    "print(a)"
   ]
  },
  {
   "cell_type": "code",
   "execution_count": null,
   "metadata": {},
   "outputs": [],
   "source": [
    "Boş bir permütasyon listesi oluşturup bize verilen listedeki elemanları bu listeye ekleyerek yeni permütasyon listesi oluşturuyoruz. Bu işlemi de listenin eleman sayısı kadar tekrar ediyoruz.\n",
    "Başlangıçta r = [[]] boş bir dizi\n",
    "Bana verilen dizi lst = [1,2,3]\n",
    "lst listesi üzerinde ve r listesi üzerinde 2 tane for ile geziyorum.\n",
    "for i in r for j in lst\n",
    "r listesinde şu an üzerinde bulunduğum elemanda, lst listesinin şu anki elemanı yoksa, ikisini birleştiriyorum ve onu yeni listeme eleman olarak ekliyorum.\n",
    "if j not in i    # var mı diye kontrol\n",
    "i + [j]          # yoksa ikisini birleştir\n",
    "Bu işlem sonunda elde ettiğim yeni listeyi her seferinde r değişkenine atayarak yeni bir liste elde ediyorum.\n",
    " r = [i + [j] for i in r for j in lst if j not in i]\n",
    "Bu işlemi de lst eleman sayısı kadar tekrar ediyorum.\n",
    "for _ in lst:\n",
    "\n",
    "Adım adım gidecek olursak: for _ in lst: ile başlıyoruz.\n",
    "1. İterasyon \n",
    "şu an r = [[]]\n",
    "r ve lst elemanlarında geziyorum.\n",
    "ilk  eleman 1; r listesinin elemanı [] ve 1 bunun içinde yok, ikisini birleştiriyorum. [1] elde ediyorum ve bunu yeni listeme ekliyorum. yeni liste = [[1]]\n",
    "ikinci eleman 2; aynı işlemden sonra yeni liste = [[1],[2]]\n",
    "üçüncü eleman 3; aynı işlemden sonra yeni liste = [[1], [2], [3]]\n",
    "bu döngülerin hepsi tamamlandıktan sonra yeni listemi r değişkenine atıyorum ve r = [[1], [2], [3]] oluyor.\n",
    "2. İterasyon\n",
    "şu an r = [[1], [2], [3]]\n",
    "r ve lst elemanlarında geziyorum.\n",
    "r listesinin ilk elemanı [1], sırayla lst elemanlarına bakıyorum.\n",
    "lst nin ilk elemanı 1, [1] içinde 1 olduğu için işlem yapmıyorum. yeni liste = []\n",
    "lst nin ikinci elemanı 2, [1] içinde 2 yok, o zaman ikisini birleştiriyorum [1,2] ve yeni listeme atıyorum yeni liste = [[1,2]]\n",
    "lst nin üçüncü elemanı 3, [1] içinde 3 yok, o zaman ikisini birleştiriyorum [1,3] ve yeni listeme atıyorum yeni liste = [[1,2], [1,3]]\n",
    "sonra r listesinin ikinci elemanı olan [2] için aynı işlemleri tekrar ediyorum. yeni liste = [[1, 2], [1, 3], [2, 1], [2, 3]] oluyor.\n",
    "sonra r listesinin üçüncü elemanı olan [3] için aynı işlemleri tekrar ediyorum. yeni liste = [[1, 2], [1, 3], [2, 1], [2, 3], [3, 1], [3, 2]] oluyor.\n",
    "bu döngülerin hepsi tamamlandıktan sonra yeni listemi r değişkenine atıyorum ve r = [[1, 2], [1, 3], [2, 1], [2, 3], [3, 1], [3, 2]] oluyor.\n",
    "3. İterasyon\n",
    "şu an r = [[1, 2], [1, 3], [2, 1], [2, 3], [3, 1], [3, 2]]\n",
    "r ve lst elemanlarında geziyorum. Artık r nin eleman sayısı 6.\n",
    "r listesinin ilk elemanı [1,2], sırayla lst elemanlarına bakıyorum.\n",
    "lst nin ilk elemanı 1, [1,2] içinde 1 olduğu için işlem yapmıyorum. yeni liste = []\n",
    "lst nin ikinci elemanı 2, [1,2] içinde 2 olduğu için işlem yapmıyorum. yeni liste = []\n",
    "lst nin üçüncü elemanı 3, [1,2] içinde 3 yok, o zaman ikisini birleştiriyorum [1,2,3] ve yeni listeme atıyorum yeni liste = [[1,2,3]]\n",
    "sonra r listesinin ikinci elemanı olan [1,3] için aynı işlemleri tekrar ediyorum. yeni liste = [[1, 2, 3], [1, 3 ,2]] oluyor.\n",
    "sonra r listesinin üçüncü elemanı olan [2,1] için aynı işlemleri tekrar ediyorum. yeni liste = [[1, 2, 3], [1, 3, 2], [2, 1, 3]] oluyor.\n",
    "r nin diğer elemanları için de aynı işlemi tekrar edince yeni liste = [[1, 2, 3], [1, 3, 2], [2, 1, 3], [2, 3, 1], [3, 1, 2], [3, 2, 1]] oluyor.\n",
    "bu döngülerin hepsi tamamlandıktan sonra yeni listemi r değişkenine atıyorum ve r = [[1, 2, 3], [1, 3, 2], [2, 1, 3], [2, 3, 1], [3, 1, 2], [3, 2, 1]] oluyor."
   ]
  }
 ]
}