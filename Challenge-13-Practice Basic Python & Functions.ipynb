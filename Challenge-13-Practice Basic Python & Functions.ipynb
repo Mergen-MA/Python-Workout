{
 "cells": [
  {
   "cell_type": "code",
   "execution_count": 3,
   "metadata": {
    "tags": []
   },
   "outputs": [
    {
     "output_type": "stream",
     "name": "stdout",
     "text": "True\nFalse\nTrue\n"
    }
   ],
   "source": [
    "names = [\"susan\", \"sam\", \"edward\"]\n",
    "mood = [\"happy\", \"sad\", 0]\n",
    "empty = {} # all bool dondurur. Hepsi true ise biri bile false ise false olur.\n",
    "\n",
    "print(all(names), all(mood), all(empty), sep = \"\\n\")"
   ]
  },
  {
   "cell_type": "code",
   "execution_count": 5,
   "metadata": {
    "tags": []
   },
   "outputs": [
    {
     "output_type": "stream",
     "name": "stdout",
     "text": "True\nFalse\nFalse\n"
    }
   ],
   "source": [
    "listA = [\"susan\", \"tom\", False]\n",
    "listB = [None, (), 0]\n",
    "empty = {} # any bosları false dondurur.\n",
    "\n",
    "print(any(listA), any(listB), any(empty), sep = \"\\n\")"
   ]
  },
  {
   "cell_type": "code",
   "execution_count": 6,
   "metadata": {
    "tags": []
   },
   "outputs": [
    {
     "output_type": "stream",
     "name": "stdout",
     "text": "The filtered elements are: \nsusan\ntom\n0\n"
    }
   ],
   "source": [
    "listA = [\"susan\", \"tom\", False, 0, \"0\"]\n",
    "\n",
    "filtered_list = filter(None, listA)\n",
    "\n",
    "print(\"The filtered elements are: \")\n",
    "for i in filtered_list:\n",
    "    print(i)"
   ]
  },
  {
   "cell_type": "code",
   "execution_count": 10,
   "metadata": {
    "tags": []
   },
   "outputs": [
    {
     "output_type": "stream",
     "name": "stdout",
     "text": "(0, 'bread')\n(1, 'water')\n(2, 'olive')\n{0: 'bread', 1: 'water', 2: 'olive'}\n"
    }
   ],
   "source": [
    "grocery = ['bread', 'water', 'olive']\n",
    "\n",
    "enumerate(grocery) # enumerate elemanlara numara verir.\n",
    "\n",
    "degisken = list(enumerate(grocery)) # enumerate(grocery, 10) yazarsam 10 dan baslatır.\n",
    "\n",
    "for i in degisken:\n",
    "    print(i)\n",
    "\n",
    "print(dict(degisken))"
   ]
  },
  {
   "cell_type": "code",
   "execution_count": 11,
   "metadata": {
    "tags": []
   },
   "outputs": [
    {
     "output_type": "stream",
     "name": "stdout",
     "text": "The largest number is:  16\nThe samllest number is:  -222\n"
    }
   ],
   "source": [
    "number = [-222, 0, 16, 5, 10, 6]\n",
    "largest_num = max(number)\n",
    "smallest_num = min(number)\n",
    "\n",
    "print(\"The largest number is: \", largest_num)\n",
    "print(\"The samllest number is: \", smallest_num)"
   ]
  },
  {
   "cell_type": "code",
   "execution_count": 13,
   "metadata": {
    "tags": []
   },
   "outputs": [
    {
     "output_type": "stream",
     "name": "stdout",
     "text": "34.5\n54.5\n"
    }
   ],
   "source": [
    "numbers1 = [-2.5, 0, 16, 5, 10, 6]\n",
    "numbers1_sum = sum(numbers1) # toplam verir\n",
    "print(numbers1_sum)\n",
    "numbers1_sum = sum(numbers1, 20) # bu sekilde yazınca start degeri olarak 20 yani 20 nin uzeirne ekler."
   ]
  },
  {
   "cell_type": "code",
   "execution_count": 22,
   "metadata": {
    "tags": []
   },
   "outputs": [
    {
     "output_type": "stream",
     "name": "stdout",
     "text": "12\n11\n3.67\n3.67\n3.67\n"
    }
   ],
   "source": [
    "print(round(12))\n",
    "print(round(10.8))\n",
    "print(round(3.665, 2))\n",
    "print(round(3.672, 2))\n",
    "print(round(3.675, 2))"
   ]
  },
  {
   "cell_type": "code",
   "execution_count": 25,
   "metadata": {},
   "outputs": [
    {
     "output_type": "error",
     "ename": "SyntaxError",
     "evalue": "unexpected EOF while parsing (<ipython-input-25-c5add4180d59>, line 2)",
     "traceback": [
      "\u001b[1;36m  File \u001b[1;32m\"<ipython-input-25-c5add4180d59>\"\u001b[1;36m, line \u001b[1;32m2\u001b[0m\n\u001b[1;33m    \u001b[0m\n\u001b[1;37m    ^\u001b[0m\n\u001b[1;31mSyntaxError\u001b[0m\u001b[1;31m:\u001b[0m unexpected EOF while parsing\n"
     ]
    }
   ],
   "source": [
    "def function_name(arguments) :\n",
    "    "
   ]
  },
  {
   "cell_type": "code",
   "execution_count": 37,
   "metadata": {
    "tags": []
   },
   "outputs": [
    {
     "output_type": "stream",
     "name": "stdout",
     "text": "20\n"
    }
   ],
   "source": [
    "def my_function(a, b):\n",
    "    area = a * b\n",
    "    print(area)\n",
    "my_function(4, 5)"
   ]
  },
  {
   "cell_type": "code",
   "execution_count": 50,
   "metadata": {
    "tags": []
   },
   "outputs": [
    {
     "output_type": "stream",
     "name": "stdout",
     "text": "50\n"
    }
   ],
   "source": [
    "# # define a  function named calculator to calculate four math operations with two number and print the result.\n",
    "\n",
    "# calculator(88, 22, \"+\")\n",
    "\n",
    "def calculator(x, y, opr):\n",
    "    if opr == \"+\":\n",
    "        print(x + y)\n",
    "    elif opr == \"-\":\n",
    "        print(x - y)\n",
    "    elif opr == \"*\":\n",
    "        print(x * y)\n",
    "    elif opr == \"/\":\n",
    "        print(x / y)\n",
    "    else: print(\"enter a valid argumnet\")\n",
    "\n",
    "calculator(10, 5, \"*\")"
   ]
  },
  {
   "cell_type": "code",
   "execution_count": 51,
   "metadata": {
    "tags": []
   },
   "outputs": [
    {
     "output_type": "execute_result",
     "data": {
      "text/plain": "-24"
     },
     "metadata": {},
     "execution_count": 51
    }
   ],
   "source": [
    "# # define a  function named calculator to calculate four math operations with two number and print the result\n",
    "\n",
    "# calculator(-12, 2, \"+\")\n",
    "\n",
    "def calculator(x, y, opr):\n",
    "    if opr == \"+\":\n",
    "        return(x + y)\n",
    "    elif opr == \"-\":\n",
    "        return(x - y)\n",
    "    elif opr == \"*\":\n",
    "        return(x * y)\n",
    "    elif opr == \"/\":\n",
    "        return(x / y)\n",
    "    else: return(\"enter a valid argumnet\")\n",
    "\n",
    "calculator(-12, 2, \"*\")"
   ]
  },
  {
   "cell_type": "code",
   "execution_count": null,
   "metadata": {},
   "outputs": [],
   "source": [
    "def _carptop(a, b, islem)\n",
    "    "
   ]
  },
  {
   "cell_type": "code",
   "execution_count": 52,
   "metadata": {
    "tags": []
   },
   "outputs": [
    {
     "output_type": "stream",
     "name": "stdout",
     "text": "15\n"
    }
   ],
   "source": [
    "def karısık(a, b):\n",
    "    x = a * b\n",
    "    y = a + b\n",
    "    z = a / b\n",
    "    return y\n",
    "print(karısık(10, 5))"
   ]
  },
  {
   "cell_type": "code",
   "execution_count": 56,
   "metadata": {
    "tags": []
   },
   "outputs": [
    {
     "output_type": "stream",
     "name": "stdout",
     "text": "4\n\n    this function returns the absolute value\n    \n"
    }
   ],
   "source": [
    "# Define a function named absolute_value to calculate and return absolute value of the entered number\n",
    "\n",
    "def absolute_value(num):\n",
    "    \"\"\"\n",
    "    this function returns the absolute value\n",
    "    \"\"\"\n",
    "\n",
    "    if num > 0:\n",
    "        return num\n",
    "    else: return -num\n",
    "\n",
    "print(absolute_value(-4))\n",
    "print(absolute_value.__doc__)"
   ]
  },
  {
   "cell_type": "code",
   "execution_count": null,
   "metadata": {},
   "outputs": [],
   "source": []
  }
 ],
 "metadata": {
  "language_info": {
   "codemirror_mode": {
    "name": "ipython",
    "version": 3
   },
   "file_extension": ".py",
   "mimetype": "text/x-python",
   "name": "python",
   "nbconvert_exporter": "python",
   "pygments_lexer": "ipython3",
   "version": 3
  },
  "orig_nbformat": 2,
  "kernelspec": {
   "name": "python_defaultSpec_1594473905076",
   "display_name": "Python 3.8.3 64-bit"
  }
 },
 "nbformat": 4,
 "nbformat_minor": 2
}