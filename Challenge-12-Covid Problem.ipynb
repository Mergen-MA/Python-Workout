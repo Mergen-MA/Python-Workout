{
 "cells": [
  {
   "cell_type": "code",
   "execution_count": 38,
   "metadata": {
    "tags": []
   },
   "outputs": [
    {
     "output_type": "stream",
     "name": "stdout",
     "text": "You are in risky group\n"
    }
   ],
   "source": [
    "# Task : Estimating the risk of death from coronavirus. Write a program that;\n",
    "\n",
    "# Takes \"Yes\" or \"No\" from the user as an answer to the following questions :\n",
    "\n",
    "# Are you a cigarette addict older than 75 years old? Variable → age\n",
    "\n",
    "# Do you have a severe chronic disease? Variable → chronic\n",
    "\n",
    "# Is your immune system too weak? Variable → immune\n",
    "\n",
    "# Set a logical algorithm using boolean logic operators (and/or) and use if-statements with the given variables in order to print out us a message : \"You are in risky group\"(if True ) or \"You are not in risky group\" (if False)\n",
    "\n",
    "age = input(\"Are you a cigarette addict older than 75 years old? Yes or No \").title().strip()\n",
    "\n",
    "chronic = input(\"Do you have a severe chronic disease? Yes or No \").title().strip()\n",
    "\n",
    "immune = input(\"Is your immune system too weak? Yes or No \").title().strip()\n",
    "\n",
    "if age and chronic and immune == \"Yes\":\n",
    "    print(\"You are in risky group\")\n",
    "elif age or chronic or immune == \"No\":\n",
    "    print(\"You are not in risky group\")"
   ]
  },
  {
   "cell_type": "code",
   "execution_count": 40,
   "metadata": {},
   "outputs": [
    {
     "output_type": "execute_result",
     "data": {
      "text/plain": "[1, 2, 3, 4]"
     },
     "metadata": {},
     "execution_count": 40
    }
   ],
   "source": [
    "asd = list(range(1,5))\n",
    "asd"
   ]
  },
  {
   "cell_type": "code",
   "execution_count": null,
   "metadata": {},
   "outputs": [],
   "source": []
  }
 ],
 "metadata": {
  "language_info": {
   "codemirror_mode": {
    "name": "ipython",
    "version": 3
   },
   "file_extension": ".py",
   "mimetype": "text/x-python",
   "name": "python",
   "nbconvert_exporter": "python",
   "pygments_lexer": "ipython3",
   "version": 3
  },
  "orig_nbformat": 2,
  "kernelspec": {
   "name": "python_defaultSpec_1594218462722",
   "display_name": "Python 3.8.3 64-bit"
  }
 },
 "nbformat": 4,
 "nbformat_minor": 2
}