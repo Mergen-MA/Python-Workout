{
 "cells": [
  {
   "cell_type": "code",
   "execution_count": 1,
   "metadata": {
    "tags": []
   },
   "outputs": [
    {
     "output_type": "execute_result",
     "data": {
      "text/plain": [
       "[1, 7, 8, 10, 12, 4, 0, 0, 0, 0]"
      ]
     },
     "metadata": {},
     "execution_count": 1
    }
   ],
   "source": [
    "#Given an array nums, write a function to move all zeroes to the end of it while maintaining the relative order of \n",
    "#the non-zero elements.\n",
    "\n",
    "array1 = [0,1,0,3,12]\n",
    "array2 = [1,7,0,0,8,0,10,12,0,4]\n",
    "\n",
    "def solution(nums):\n",
    "    for i in nums:\n",
    "        if 0 in nums:\n",
    "            nums.remove(0)\n",
    "            nums.append(0)\n",
    "    return nums\n",
    "\n",
    "solution(array1)\n",
    "solution(array2)\n",
    "\n"
   ]
  }
 ],
 "metadata": {
  "language_info": {
   "codemirror_mode": {
    "name": "ipython",
    "version": 3
   },
   "file_extension": ".py",
   "mimetype": "text/x-python",
   "name": "python",
   "nbconvert_exporter": "python",
   "pygments_lexer": "ipython3",
   "version": "3.8.3-final"
  },
  "orig_nbformat": 2,
  "kernelspec": {
   "name": "python3",
   "display_name": "Python 3.8.3 64-bit",
   "metadata": {
    "interpreter": {
     "hash": "98f49bc6fad53f20cf8aaea4c55b9273c22a38e048520263f665e3eedc60e879"
    }
   }
  }
 },
 "nbformat": 4,
 "nbformat_minor": 2
}